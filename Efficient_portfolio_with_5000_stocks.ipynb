{
  "nbformat": 4,
  "nbformat_minor": 0,
  "metadata": {
    "colab": {
      "provenance": [],
      "authorship_tag": "ABX9TyPwTtySMZhpbsAtetVuVkMa",
      "include_colab_link": true
    },
    "kernelspec": {
      "name": "python3",
      "display_name": "Python 3"
    },
    "language_info": {
      "name": "python"
    }
  },
  "cells": [
    {
      "cell_type": "markdown",
      "metadata": {
        "id": "view-in-github",
        "colab_type": "text"
      },
      "source": [
        "<a href=\"https://colab.research.google.com/github/ANIRVANJENA/ANIRVANJENA/blob/main/Efficient_portfolio_with_5000_stocks.ipynb\" target=\"_parent\"><img src=\"https://colab.research.google.com/assets/colab-badge.svg\" alt=\"Open In Colab\"/></a>"
      ]
    },
    {
      "cell_type": "code",
      "source": [
        "import numpy as np\n",
        "import pandas as pdr\n",
        "import pandas_datareader.data as web\n",
        "import datetime as dt"
      ],
      "metadata": {
        "id": "CjMOZiyckQ4_"
      },
      "execution_count": 8,
      "outputs": []
    },
    {
      "cell_type": "code",
      "execution_count": 9,
      "metadata": {
        "id": "tZZIcfdxhlcI"
      },
      "outputs": [],
      "source": [
        "def getData(stocks, start, end):\n",
        "    stockData = pdr.get_data_yahoo(stocks, start=start, end=end)\n",
        "    stockData = stockData['Close']\n",
        "\n",
        "    returns = stockData.pct_change()\n",
        "    meanReturns = returns.mean()\n",
        "    covMatrix = returns.cov()\n",
        "    return meanReturns, covMatrix"
      ]
    },
    {
      "cell_type": "code",
      "source": [
        "def portfolioPerformance(weights, meanReturns, covMatrix):\n",
        "    returns = np.sum(meanReturns*weights)*252\n",
        "    std = np.sqrt(\n",
        "            np.dot(weights.T,np.dot(covMatrix, weights))\n",
        "           )*np.sqrt(252)\n",
        "    return returns, std"
      ],
      "metadata": {
        "id": "AYrpnJ3FiMWd"
      },
      "execution_count": 10,
      "outputs": []
    },
    {
      "cell_type": "code",
      "source": [
        "# Sharpe ratio Optimisation\n",
        "def negativeSR(weights, meanReturns, covMatrix, riskFreeRate = 0):\n",
        "    pReturns, pStd = portfolioPerformance(weights, meanReturns, covMatrix)\n",
        "    return - (pReturns - riskFreeRate)/pStd\n",
        "\n",
        "def maxSR(meanReturns, covMatrix, riskFreeRate = 0, constraintSet=(0,1)):\n",
        "    \"Minimize the negative SR, by altering the weights of the portfolio\"\n",
        "    numAssets = len(meanReturns)\n",
        "    args = (meanReturns, covMatrix, riskFreeRate)\n",
        "    constraints = ({'type': 'eq', 'fun': lambda x: np.sum(x) - 1})\n",
        "    bound = constraintSet\n",
        "    bounds = tuple(bound for asset in range(numAssets))\n",
        "    result = sc.minimize(negativeSR, numAssets*[1./numAssets], args=args,\n",
        "                        method='SLSQP', bounds=bounds, constraints=constraints)\n",
        "    return result"
      ],
      "metadata": {
        "id": "rfU3nd91iQ-3"
      },
      "execution_count": 3,
      "outputs": []
    },
    {
      "cell_type": "code",
      "source": [
        "#Create Efficient frontier\n",
        "def portfolioReturn(weights, meanReturns, covMatrix):\n",
        "        return portfolioPerformance(weights, meanReturns, covMatrix)[0]\n",
        "\n",
        "\n",
        "def efficientOpt(meanReturns, covMatrix, returnTarget, constraintSet=(0,1)):\n",
        "    \"\"\"For each returnTarget, we want to optimise the portfolio for min variance\"\"\"\n",
        "    numAssets = len(meanReturns)\n",
        "    args = (meanReturns, covMatrix)\n",
        "\n",
        "    constraints = ({'type':'eq', 'fun': lambda x: portfolioReturn(x, meanReturns, covMatrix) - returnTarget},\n",
        "                    {'type': 'eq', 'fun': lambda x: np.sum(x) - 1})\n",
        "    bound = constraintSet\n",
        "    bounds = tuple(bound for asset in range(numAssets))\n",
        "    effOpt = sc.minimize(portfolioVariance, numAssets*[1./numAssets], args=args, method = 'SLSQP', bounds=bounds, constraints=constraints)\n",
        "    return effOpt"
      ],
      "metadata": {
        "id": "kEtFrOTVigIX"
      },
      "execution_count": 4,
      "outputs": []
    },
    {
      "cell_type": "code",
      "source": [
        "def calculatedResults(meanReturns, covMatrix, riskFreeRate=0, constraintSet=(0,1)):\n",
        "    \"\"\"Read in mean, cov matrix, and other financial information\n",
        "        Output, Max SR , Min Volatility, efficient frontier \"\"\"\n",
        "    # Max Sharpe Ratio Portfolio\n",
        "    maxSR_Portfolio = maxSR(meanReturns, covMatrix)\n",
        "    maxSR_returns, maxSR_std = portfolioPerformance(maxSR_Portfolio['x'], meanReturns, covMatrix)\n",
        "    maxSR_returns, maxSR_std = round(maxSR_returns*100,2), round(maxSR_std*100,2)\n",
        "    maxSR_allocation = pd.DataFrame(maxSR_Portfolio['x'], index=meanReturns.index, columns=['allocation'])\n",
        "    maxSR_allocation.allocation = [round(i*100,0) for i in maxSR_allocation.allocation]\n",
        "\n",
        "    # Min Volatility Portfolio\n",
        "    minVol_Portfolio = minimizeVariance(meanReturns, covMatrix)\n",
        "    minVol_returns, minVol_std = portfolioPerformance(minVol_Portfolio['x'], meanReturns, covMatrix)\n",
        "    minVol_returns, minVol_std = round(minVol_returns*100,2), round(minVol_std*100,2)\n",
        "    minVol_allocation = pd.DataFrame(minVol_Portfolio['x'], index=meanReturns.index, columns=['allocation'])\n",
        "    minVol_allocation.allocation = [round(i*100,0) for i in minVol_allocation.allocation]\n",
        "\n",
        "    # Efficient Frontier\n",
        "    efficientList = []\n",
        "    targetReturns = np.linspace(minVol_returns, maxSR_returns, 20)\n",
        "    for target in targetReturns:\n",
        "        efficientList.append(efficientOpt(meanReturns, covMatrix, target)['fun'])\n",
        "\n",
        "    return maxSR_returns, maxSR_std, maxSR_allocation, minVol_returns, minVol_std, minVol_allocation, efficientList"
      ],
      "metadata": {
        "id": "QeFKhGFvi0nP"
      },
      "execution_count": 5,
      "outputs": []
    },
    {
      "cell_type": "code",
      "source": [
        "def EF_graph(meanReturns, covMatrix, riskFreeRate=0, constraintSet=(0,1)):\n",
        "    \"\"\"Return a graph ploting the min vol, max sr and efficient frontier\"\"\"\n",
        "    maxSR_returns, maxSR_std, maxSR_allocation, minVol_returns, minVol_std, minVol_allocation, efficientList, targetReturns = calculatedResults(meanReturns, covMatrix, riskFreeRate, constraintSet)\n",
        "\n",
        "    #Max SR\n",
        "    MaxSharpeRatio = go.Scatter(\n",
        "        name='Maximium Sharpe Ratio',\n",
        "        mode='markers',\n",
        "        x=[maxSR_std],\n",
        "        y=[maxSR_returns],\n",
        "        marker=dict(color='red',size=14,line=dict(width=3, color='black'))\n",
        "    )\n",
        "\n",
        "    #Min Vol\n",
        "    MinVol = go.Scatter(\n",
        "        name='Mininium Volatility',\n",
        "        mode='markers',\n",
        "        x=[minVol_std],\n",
        "        y=[minVol_returns],\n",
        "        marker=dict(color='green',size=14,line=dict(width=3, color='black'))\n",
        "    )\n",
        "\n",
        "    #Efficient Frontier\n",
        "    EF_curve = go.Scatter(\n",
        "        name='Efficient Frontier',\n",
        "        mode='lines',\n",
        "        x=[round(ef_std*100, 2) for ef_std in efficientList],\n",
        "        y=[round(target*100, 2) for target in targetReturns],\n",
        "        line=dict(color='black', width=4, dash='dashdot')\n",
        "    )\n",
        "\n",
        "    data = [MaxSharpeRatio, MinVol, EF_curve]\n",
        "\n",
        "    layout = go.Layout(\n",
        "        title = 'Portfolio Optimisation with the Efficient Frontier',\n",
        "        yaxis = dict(title='Annualised Return (%)'),\n",
        "        xaxis = dict(title='Annualised Volatility (%)'),\n",
        "        showlegend = True,\n",
        "        legend = dict(\n",
        "            x = 0.75, y = 0, traceorder='normal',\n",
        "            bgcolor='#E2E2E2',\n",
        "            bordercolor='black',\n",
        "            borderwidth=2),\n",
        "        width=800,\n",
        "        height=600)\n",
        "\n",
        "    fig = go.Figure(data=data, layout=layout)\n",
        "    return fig.show()"
      ],
      "metadata": {
        "id": "IEacQVeJi6gP"
      },
      "execution_count": 6,
      "outputs": []
    },
    {
      "cell_type": "code",
      "source": [
        "def EF_graph(meanReturns, covMatrix, riskFreeRate=0, constraintSet=(0,1)):\n",
        "    \"\"\"Return a graph ploting the min vol, max sr and efficient frontier\"\"\"\n",
        "    maxSR_returns, maxSR_std, maxSR_allocation, minVol_returns, minVol_std, minVol_allocation, efficientList, targetReturns = calculatedResults(meanReturns, covMatrix, riskFreeRate, constraintSet)\n",
        "\n",
        "    #Max SR\n",
        "    MaxSharpeRatio = go.Scatter(\n",
        "        name='Maximium Sharpe Ratio',\n",
        "        mode='markers',\n",
        "        x=[maxSR_std],\n",
        "        y=[maxSR_returns],\n",
        "        marker=dict(color='red',size=14,line=dict(width=3, color='black'))\n",
        "    )\n",
        "\n",
        "    #Min Vol\n",
        "    MinVol = go.Scatter(\n",
        "        name='Mininium Volatility',\n",
        "        mode='markers',\n",
        "        x=[minVol_std],\n",
        "        y=[minVol_returns],\n",
        "        marker=dict(color='green',size=14,line=dict(width=3, color='black'))\n",
        "    )\n",
        "\n",
        "    #Efficient Frontier\n",
        "    EF_curve = go.Scatter(\n",
        "        name='Efficient Frontier',\n",
        "        mode='lines',\n",
        "        x=[round(ef_std*100, 2) for ef_std in efficientList],\n",
        "        y=[round(target*100, 2) for target in targetReturns],\n",
        "        line=dict(color='black', width=4, dash='dashdot')\n",
        "    )\n",
        "\n",
        "    data = [MaxSharpeRatio, MinVol, EF_curve]\n",
        "\n",
        "    layout = go.Layout(\n",
        "        title = 'Portfolio Optimisation with the Efficient Frontier',\n",
        "        yaxis = dict(title='Annualised Return (%)'),\n",
        "        xaxis = dict(title='Annualised Volatility (%)'),\n",
        "        showlegend = True,\n",
        "        legend = dict(\n",
        "            x = 0.75, y = 0, traceorder='normal',\n",
        "            bgcolor='#E2E2E2',\n",
        "            bordercolor='black',\n",
        "            borderwidth=2),\n",
        "        width=800,\n",
        "        height=600)\n",
        "\n",
        "    fig = go.Figure(data=data, layout=layout)\n",
        "    return fig.show()"
      ],
      "metadata": {
        "id": "ARCqfUtljaud"
      },
      "execution_count": 7,
      "outputs": []
    }
  ]
}